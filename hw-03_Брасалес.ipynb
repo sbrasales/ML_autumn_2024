{
 "cells": [
  {
   "cell_type": "markdown",
   "id": "c9e36a94",
   "metadata": {},
   "source": [
    "# Лабораторная работа 3:Гауссово распределение, линейный дискриминантный анализ и наивный байес"
   ]
  },
  {
   "cell_type": "markdown",
   "id": "82111014",
   "metadata": {},
   "source": [
    "### Брасалес Сарасбати "
   ]
  },
  {
   "cell_type": "markdown",
   "id": "ea862de1",
   "metadata": {},
   "source": [
    "### 1. Многомерное гауссово распределение"
   ]
  },
  {
   "cell_type": "code",
   "execution_count": null,
   "id": "6c7ee6ca",
   "metadata": {},
   "outputs": [],
   "source": [
    "import numpy as np\n",
    "import matplotlib.pyplot as plt\n",
    "from scipy.stats import multivariate_normal\n",
    "from sklearn.datasets import make_classification\n",
    "from scipy.stats import norm"
   ]
  },
  {
   "cell_type": "code",
   "execution_count": null,
   "id": "7717e76f",
   "metadata": {},
   "outputs": [],
   "source": [
    "M = 200 \n",
    "sigma1 = 0.1 \n",
    "sigma2 = 0.5  \n",
    "x1 = np.random.randn(M, 1) * sigma1 \n",
    "x2 = np.random.randn(M, 1) * sigma2\n",
    "X = np.concatenate((x1, x2), axis=1) "
   ]
  },
  {
   "cell_type": "code",
   "execution_count": null,
   "id": "385e34aa",
   "metadata": {},
   "outputs": [],
   "source": [
    "alpha= np.pi/4\n",
    "rotation_matrix=np.array([[np.cos(alpha),-np.sin(alpha)],\n",
    "                         [np.sin(alpha),np.cos(alpha)]])\n",
    "X_rotated=X @ rotation_matrix  "
   ]
  },
  {
   "cell_type": "code",
   "execution_count": null,
   "id": "14e42137",
   "metadata": {},
   "outputs": [],
   "source": [
    "cov=np.cov(X_rotated.T)\n",
    "cov"
   ]
  },
  {
   "cell_type": "code",
   "execution_count": null,
   "id": "56a10b20",
   "metadata": {},
   "outputs": [],
   "source": [
    "plt.scatter(X_rotated[:, 0], X_rotated[:, 1], alpha=0.5)\n",
    "plt.xlabel('X1')\n",
    "plt.ylabel('X2')\n",
    "plt.grid()\n",
    "plt.show()"
   ]
  },
  {
   "cell_type": "code",
   "execution_count": null,
   "id": "2445eeb9",
   "metadata": {},
   "outputs": [],
   "source": [
    "mean_rotated = np.mean(X_rotated, axis=0)\n",
    "mean_rotated "
   ]
  },
  {
   "cell_type": "code",
   "execution_count": null,
   "id": "a47d7c12",
   "metadata": {},
   "outputs": [],
   "source": [
    "X_gaussian = np.random.multivariate_normal(mean_rotated, cov, M) # genera muestras aleatorias de una distribucion normal multivaruada\n",
    "plt.scatter(X_gaussian[:, 0], X_gaussian[:, 1], alpha=0.5, color='r')\n",
    "plt.xlabel('X1')\n",
    "plt.ylabel('X2')\n",
    "plt.grid()\n",
    "plt.show()\n"
   ]
  },
  {
   "cell_type": "markdown",
   "id": "a47923ee",
   "metadata": {},
   "source": [
    "### 2. Плотность вероятности гауссового распределения"
   ]
  },
  {
   "cell_type": "code",
   "execution_count": null,
   "id": "e56acfe0",
   "metadata": {},
   "outputs": [],
   "source": [
    "X_random = np.random.rand(M, 2)\n",
    "mean1 = np.mean(X_random, axis=0)\n",
    "cov1 = np.cov(X_random, rowvar=False)"
   ]
  },
  {
   "cell_type": "code",
   "execution_count": null,
   "id": "fc5d1db9",
   "metadata": {},
   "outputs": [],
   "source": [
    "xx = np.linspace(0, 1, 100)  \n",
    "yy = np.linspace(0, 1, 100)\n",
    "XX, YY = np.meshgrid(xx, yy)  \n",
    "pp = np.stack((XX.flatten(), YY.flatten()), axis=1)  \n",
    "\n",
    "m = multivariate_normal(mean1, cov1)\n",
    "ZZ = m.pdf(pp).reshape(XX.shape)  \n",
    "\n",
    "plt.figure(figsize=(10, 8))\n",
    "IMG = plt.pcolor(XX, YY, ZZ)  \n",
    "plt.colorbar(IMG)\n",
    "\n",
    "CS = plt.contour(XX, YY, ZZ, levels=[0.2, 0.4, 0.6, 0.8, 0.9], colors='k')\n",
    "plt.clabel(CS, inline=1, fontsize=10)\n",
    "\n",
    "plt.scatter(X_random[:, 0], X_random[:, 1], color='red', alpha=0.5, label='Puntos aleatorios')\n"
   ]
  },
  {
   "cell_type": "markdown",
   "id": "659e2010",
   "metadata": {},
   "source": [
    "### 3. Бинарная классификация"
   ]
  },
  {
   "cell_type": "code",
   "execution_count": null,
   "id": "3286d910",
   "metadata": {},
   "outputs": [],
   "source": [
    "X, y = make_classification(n_samples=200, n_features=2, \n",
    "                           n_informative=2, n_redundant=0, \n",
    "                           n_clusters_per_class=1, flip_y=0.1, random_state=42)"
   ]
  },
  {
   "cell_type": "code",
   "execution_count": null,
   "id": "81815ba0",
   "metadata": {},
   "outputs": [],
   "source": [
    "X0 = X[y == 0]\n",
    "X1 = X[y == 1]"
   ]
  },
  {
   "cell_type": "code",
   "execution_count": null,
   "id": "5e604fef",
   "metadata": {},
   "outputs": [],
   "source": [
    "mu_0 = np.mean(X0, axis=0)\n",
    "C_0 = np.cov(X0, rowvar=False)\n",
    "mu_1 = np.mean(X1, axis=0)\n",
    "C_1 = np.cov(X1, rowvar=False)"
   ]
  },
  {
   "cell_type": "code",
   "execution_count": null,
   "id": "de770db5",
   "metadata": {},
   "outputs": [],
   "source": [
    "p_x_y0 = multivariate_normal.pdf(grid, mean=mu_0, cov=C_0)\n",
    "p_x_y1 = multivariate_normal.pdf(grid, mean=mu_1, cov=C_1)"
   ]
  },
  {
   "cell_type": "code",
   "execution_count": null,
   "id": "92553149",
   "metadata": {},
   "outputs": [],
   "source": [
    "M = len(y)  \n",
    "p_y0 = np.sum(y == 0) / M  \n",
    "p_y1 = np.sum(y == 1) / M"
   ]
  },
  {
   "cell_type": "code",
   "execution_count": null,
   "id": "99b7ec8d",
   "metadata": {},
   "outputs": [],
   "source": [
    "log_difference = np.log(p_x_y0 * p_y0) - np.log(p_x_y1 * p_y1)"
   ]
  },
  {
   "cell_type": "code",
   "execution_count": null,
   "id": "2f9e5ea1",
   "metadata": {},
   "outputs": [],
   "source": [
    "xx, yy = np.meshgrid(np.linspace(-3, 5, 200), np.linspace(-3, 4, 200))  \n",
    "grid = np.dstack((xx, yy)).reshape(-1, 2)\n",
    "\n",
    "plt.contourf(xx, yy, log_difference.reshape(xx.shape), levels=20, cmap='RdBu', alpha=0.5)\n",
    "plt.colorbar(label='Разность log(p(x|y))')\n",
    "\n",
    "plt.scatter(X0[:, 0], X0[:, 1], color='blue', alpha=0.5)\n",
    "plt.scatter(X1[:, 0], X1[:, 1], color='orange', alpha=0.5)\n",
    "\n",
    "plt.contour(xx, yy, log_difference.reshape(xx.shape), levels=[0], colors='black', linewidths=2)"
   ]
  },
  {
   "cell_type": "markdown",
   "id": "186f603d",
   "metadata": {},
   "source": [
    "### 4. LDA (linear discriminant analysis)"
   ]
  },
  {
   "cell_type": "code",
   "execution_count": null,
   "id": "263e268d",
   "metadata": {},
   "outputs": [],
   "source": [
    "X, y = make_classification(n_samples=200, n_features=2, \n",
    "    n_informative=2, n_redundant=0,    \n",
    "    n_classes=2, n_clusters_per_class=1, \n",
    "    class_sep=2.0, random_state=42\n",
    ")"
   ]
  },
  {
   "cell_type": "code",
   "execution_count": null,
   "id": "1050d2f9",
   "metadata": {},
   "outputs": [],
   "source": [
    "from sklearn.base import BaseEstimator\n",
    "\n",
    "class myLDA(BaseEstimator):\n",
    "    def __init__(self):\n",
    "        self.w = None  \n",
    "        self.b = None \n",
    "        \n",
    "    def fit(self, X, y):\n",
    "        classes = np.unique(y)\n",
    "        X0 = X[y == classes[0]]\n",
    "        X1 = X[y == classes[1]]\n",
    "        \n",
    "        mu0 = np.mean(X0, axis=0)\n",
    "        mu1 = np.mean(X1, axis=0)\n",
    "        \n",
    "        C0 = np.cov(X0, rowvar=False)\n",
    "        C1 = np.cov(X1, rowvar=False)\n",
    "        C = (C0 * len(X0) + C1 * len(X1)) / (len(X0) + len(X1))\n",
    "        C_inv = np.linalg.inv(C)\n",
    "        \n",
    "        self.w = C_inv @ (mu1 - mu0)\n",
    "        self.b = -0.5 * (mu1 @ C_inv @ mu1 - mu0 @ C_inv @ mu0)\n",
    "        \n",
    "    def predict(self, X):\n",
    "        \n",
    "        return (X @ self.w + self.b >= 0).astype(int)\n"
   ]
  },
  {
   "cell_type": "code",
   "execution_count": null,
   "id": "42dd1c5a",
   "metadata": {},
   "outputs": [],
   "source": [
    "lda = myLDA()\n",
    "lda.fit(X, y)\n",
    "\n",
    "x_min, x_max = X[:, 0].min() - 1, X[:, 0].max() + 1\n",
    "y_min, y_max = X[:, 1].min() - 1, X[:, 1].max() + 1\n",
    "xx, yy = np.meshgrid(np.linspace(x_min, x_max, 100), np.linspace(y_min, y_max, 100))\n",
    "Z = lda.predict(np.c_[xx.ravel(), yy.ravel()])\n",
    "Z = Z.reshape(xx.shape)\n",
    "\n",
    "plt.contourf(xx, yy, Z, alpha=0.5, cmap=plt.cm.autumn)  # Fondo en colores naranja y rojo\n",
    "plt.scatter(X[:, 0], X[:, 1], c=y, edgecolors='k', cmap=plt.cm.autumn)\n",
    "\n",
    "x_vals = np.linspace(x_min, x_max, 100)\n",
    "y_vals = -(lda.w[0] / lda.w[1]) * x_vals - (lda.b / lda.w[1])\n",
    "plt.plot(x_vals, y_vals, color='black', linewidth=2)  # Línea de frontera en negro\n",
    "\n",
    "plt.title('LDA')\n",
    "plt.xlim(x_min, x_max)\n",
    "plt.ylim(y_min, y_max)\n",
    "plt.grid()\n",
    "plt.show()\n"
   ]
  },
  {
   "cell_type": "markdown",
   "id": "4585b8e0",
   "metadata": {},
   "source": [
    "### 5. Наивный байесовый классификатор (NaiveBayes)"
   ]
  },
  {
   "cell_type": "code",
   "execution_count": null,
   "id": "36e05fad",
   "metadata": {},
   "outputs": [],
   "source": [
    "X, y = make_classification(n_samples=200, n_features=2, \n",
    "    n_informative=2, n_redundant=0, \n",
    "    n_classes=2, random_state=42\n",
    ")"
   ]
  },
  {
   "cell_type": "code",
   "execution_count": null,
   "id": "8dd3ec81",
   "metadata": {},
   "outputs": [],
   "source": [
    "class myNB(BaseEstimator):\n",
    "    def __init__(self):\n",
    "        self.class_stats = {}\n",
    "        self.class_priors = {}\n",
    "\n",
    "    def fit(self, X, y):\n",
    "        classes = np.unique(y)\n",
    "        \n",
    "        for cls in classes:\n",
    "            X_cls = X[y == cls]\n",
    "            \n",
    "            means = np.mean(X_cls, axis=0)\n",
    "            variances = np.var(X_cls, axis=0)\n",
    "            self.class_stats[cls] = {'mean': means, 'var': variances}\n",
    "            self.class_priors[cls] = len(X_cls) / len(X)\n",
    "\n",
    "    def predict_proba(self, X):\n",
    "        posteriors = []\n",
    "        for cls, stats in self.class_stats.items():\n",
    "    \n",
    "            mean = stats['mean']\n",
    "            var = stats['var']\n",
    "            likelihood = norm.pdf(X, loc=mean, scale=np.sqrt(var))\n",
    "            total_likelihood = np.prod(likelihood, axis=1)\n",
    "            posterior = total_likelihood * self.class_priors[cls]\n",
    "            posteriors.append(posterior)\n",
    "        \n",
    "        posteriors = np.array(posteriors)\n",
    "        return posteriors / posteriors.sum(axis=0)\n",
    "\n",
    "    def predict(self, X):\n",
    "        posteriors = self.predict_proba(X)\n",
    "        return np.argmax(posteriors, axis=0)"
   ]
  },
  {
   "cell_type": "code",
   "execution_count": null,
   "id": "df5aac37",
   "metadata": {},
   "outputs": [],
   "source": [
    "nb = myNB()\n",
    "nb.fit(X, y)\n",
    "\n",
    "x_min, x_max = X[:, 0].min() - 1, X[:, 0].max() + 1\n",
    "y_min, y_max = X[:, 1].min() - 1, X[:, 1].max() + 1\n",
    "xx, yy = np.meshgrid(np.linspace(x_min, x_max, 300), np.linspace(y_min, y_max, 300)) \n",
    "Z = nb.predict(np.c_[xx.ravel(), yy.ravel()])\n",
    "Z = Z.reshape(xx.shape)\n",
    "\n",
    "plt.contourf(xx, yy, Z, alpha=0.5, cmap=plt.cm.autumn) \n",
    "probs = nb.predict_proba(np.c_[xx.ravel(), yy.ravel()]) \n",
    "probs = probs[1, :].reshape(xx.shape)\n",
    "plt.contour(xx, yy, probs, levels=[0.5], colors='black', linewidths=2) \n",
    "plt.scatter(X[:, 0], X[:, 1], c=y, edgecolors='k', cmap=plt.cm.autumn)\n",
    "\n",
    "plt.title('Naive Bayes')\n",
    "plt.xlim(x_min, x_max)\n",
    "plt.ylim(y_min, y_max)\n",
    "plt.grid()\n",
    "plt.show()"
   ]
  },
  {
   "cell_type": "markdown",
   "id": "02b8d985",
   "metadata": {},
   "source": [
    "### 6. Сравнение двух алгоритмов: LDA и NB"
   ]
  },
  {
   "cell_type": "code",
   "execution_count": null,
   "id": "72c5263c",
   "metadata": {},
   "outputs": [],
   "source": [
    "from sklearn.metrics import accuracy_score, precision_score, recall_score"
   ]
  },
  {
   "cell_type": "code",
   "execution_count": null,
   "id": "e22e9450",
   "metadata": {},
   "outputs": [],
   "source": [
    "X, y = make_classification(n_samples=1000, n_features=2, n_informative=2, n_redundant=0, \n",
    "                           n_clusters_per_class=1, random_state=42)\n"
   ]
  },
  {
   "cell_type": "code",
   "execution_count": null,
   "id": "df4fac8f",
   "metadata": {},
   "outputs": [],
   "source": [
    "X_train, X_test, y_train, y_test = train_test_split(X, y, test_size=0.2, random_state=42)\n",
    "\n",
    "lda = myLDA()\n",
    "lda.fit(X_train, y_train)\n",
    "y_pred_lda = lda.predict(X_test)\n",
    "\n",
    "nb = myNB()\n",
    "nb.fit(X_train, y_train)\n",
    "y_pred_nb = nb.predict(X_test)\n",
    "\n",
    "accuracy_lda = accuracy_score(y_test, y_pred_lda)\n",
    "precision_lda = precision_score(y_test, y_pred_lda)\n",
    "recall_lda = recall_score(y_test, y_pred_lda)\n",
    "\n",
    "accuracy_nb = accuracy_score(y_test, y_pred_nb)\n",
    "precision_nb = precision_score(y_test, y_pred_nb)\n",
    "recall_nb = recall_score(y_test, y_pred_nb)"
   ]
  },
  {
   "cell_type": "code",
   "execution_count": null,
   "id": "28815087",
   "metadata": {},
   "outputs": [],
   "source": [
    "print(f\"Метрики LDA:\")\n",
    "print(f\"Точность (Accuracy): {accuracy_lda:.2f}\")\n",
    "print(f\"Прецизионность (Precision): {precision_lda:.2f}\")\n",
    "print(f\"Полнота (Recall): {recall_lda:.2f}\\n\")\n",
    "\n",
    "print(f\"Метрики Наивного Байеса:\")\n",
    "print(f\"Точность (Accuracy): {accuracy_nb:.2f}\")\n",
    "print(f\"Прецизионность (Precision): {precision_nb:.2f}\")\n",
    "print(f\"Полнота (Recall): {recall_nb:.2f}\")"
   ]
  }
 ],
 "metadata": {
  "kernelspec": {
   "display_name": "Python 3 (ipykernel)",
   "language": "python",
   "name": "python3"
  },
  "language_info": {
   "codemirror_mode": {
    "name": "ipython",
    "version": 3
   },
   "file_extension": ".py",
   "mimetype": "text/x-python",
   "name": "python",
   "nbconvert_exporter": "python",
   "pygments_lexer": "ipython3",
   "version": "3.11.4"
  }
 },
 "nbformat": 4,
 "nbformat_minor": 5
}
